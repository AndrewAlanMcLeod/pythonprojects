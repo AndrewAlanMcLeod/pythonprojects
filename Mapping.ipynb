{
 "cells": [
  {
   "cell_type": "code",
   "execution_count": 1,
   "id": "b8efdb27",
   "metadata": {},
   "outputs": [],
   "source": [
    "import folium\n",
    "OHLeast =[[43.258957458368414, -79.87215344243468],[44.233064360602285, -76.47931196754428], [43.89685887130956, -78.85957629823811],[45.398162506659645, -75.68372300558433], [44.2889812991782, -78.31553288288434]]"
   ]
  },
  {
   "cell_type": "code",
   "execution_count": 2,
   "id": "deebc532",
   "metadata": {},
   "outputs": [],
   "source": [
    "map = folium.Map(location=[44.742580035572885, -78.23530258619097], tiles=\"Stamen Terrain\")\n",
    "arenasOHLeast = folium.FeatureGroup(\"Arenas\")\n",
    "arenasOHLeast.add_child(folium.Marker(location = [44.2889812991782, -78.31553288288434], popup =\"Petes\", icon=folium.Icon(color='blue')))\n",
    "map.add_child(arenasOHLeast)\n",
    "map.save(\"MyMap.html\")\n",
    "\n"
   ]
  },
  {
   "cell_type": "code",
   "execution_count": 3,
   "id": "deb40e73",
   "metadata": {},
   "outputs": [],
   "source": [
    "for coordinates in OHLeast:\n",
    "    arenasOHLeast.add_child(folium.CircleMarker(location = coordinates, popup =\"East Division\", icon=folium.Icon(color='blue')))\n",
    "    \n",
    "map.add_child(arenasOHLeast)\n",
    "map.save(\"MyMap.html\")\n"
   ]
  },
  {
   "cell_type": "code",
   "execution_count": 4,
   "id": "da9360fa",
   "metadata": {},
   "outputs": [],
   "source": [
    "import pandas\n",
    "import folium"
   ]
  },
  {
   "cell_type": "code",
   "execution_count": 5,
   "id": "0f129dd7",
   "metadata": {},
   "outputs": [],
   "source": [
    "map = folium.Map(location=[44.742580035572885, -78.23530258619097], tiles=\"Stamen Terrain\")\n",
    "data = pandas.read_csv(\"Volcanoes.txt\")\n",
    "Vols = folium.FeatureGroup(\"Volcanoes\")\n",
    "\n",
    "def foo(elev):\n",
    "    if elev <1500:\n",
    "        return 'orange'\n",
    "    elif elev <3000:\n",
    "        return 'yellow'\n",
    "    else:\n",
    "        return 'red'"
   ]
  },
  {
   "cell_type": "code",
   "execution_count": 6,
   "id": "b2952f29",
   "metadata": {},
   "outputs": [
    {
     "data": {
      "text/plain": [
       "<folium.map.FeatureGroup at 0x7f81c27621f0>"
      ]
     },
     "execution_count": 6,
     "metadata": {},
     "output_type": "execute_result"
    }
   ],
   "source": [
    "for i,j,k,l,m,n,o in zip(data.LAT, data.LON, data.NAME, data.LOCATION, data.TYPE, data.STATUS, data.ELEV):\n",
    "    Vols.add_child(folium.CircleMarker(location = [i,j],radius = 6, popup = str(k) +\", \"+str(l) +\", \"+str(m) +\", \"+str(n)  +\", \"+str(o),color=foo(o),fill_color=foo(o)))\n",
    "    \n",
    "map.add_child(Vols)\n",
    "map.save(\"MyMap.html\")\n",
    "\n",
    "Pop = folium.FeatureGroup(\"Population\")\n",
    "Pop.add_child(folium.GeoJson(data = open(\"world.json\",'r', encoding='utf-8-sig').read(),style_function = lambda x: {'fillColor':'white' if x['properties']['POP2005']<50000000 else 'yellow' if x['properties']['POP2005']<300000000 else 'red' }))"
   ]
  },
  {
   "cell_type": "code",
   "execution_count": 7,
   "id": "050268ac",
   "metadata": {},
   "outputs": [],
   "source": [
    "map.add_child(Pop)\n",
    "map.save(\"MyMap.html\")"
   ]
  },
  {
   "cell_type": "code",
   "execution_count": 8,
   "id": "12df77b9",
   "metadata": {},
   "outputs": [],
   "source": [
    "map.add_child(Vols)\n",
    "map.add_child(Pop)\n",
    "map.add_child(folium.LayerControl())\n",
    "map.save(\"MyMap.html\")"
   ]
  },
  {
   "cell_type": "code",
   "execution_count": null,
   "id": "39ac8b44",
   "metadata": {},
   "outputs": [],
   "source": []
  }
 ],
 "metadata": {
  "kernelspec": {
   "display_name": "Python 3",
   "language": "python",
   "name": "python3"
  },
  "language_info": {
   "codemirror_mode": {
    "name": "ipython",
    "version": 3
   },
   "file_extension": ".py",
   "mimetype": "text/x-python",
   "name": "python",
   "nbconvert_exporter": "python",
   "pygments_lexer": "ipython3",
   "version": "3.8.8"
  }
 },
 "nbformat": 4,
 "nbformat_minor": 5
}
